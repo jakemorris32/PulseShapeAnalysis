{
 "cells": [
  {
   "cell_type": "code",
   "execution_count": 2,
   "metadata": {},
   "outputs": [],
   "source": [
    "import pandas as pd\n",
    "import matplotlib.pyplot as plt"
   ]
  },
  {
   "cell_type": "code",
   "execution_count": 3,
   "metadata": {},
   "outputs": [
    {
     "data": {
      "text/html": [
       "<div>\n",
       "<style scoped>\n",
       "    .dataframe tbody tr th:only-of-type {\n",
       "        vertical-align: middle;\n",
       "    }\n",
       "\n",
       "    .dataframe tbody tr th {\n",
       "        vertical-align: top;\n",
       "    }\n",
       "\n",
       "    .dataframe thead th {\n",
       "        text-align: right;\n",
       "    }\n",
       "</style>\n",
       "<table border=\"1\" class=\"dataframe\">\n",
       "  <thead>\n",
       "    <tr style=\"text-align: right;\">\n",
       "      <th></th>\n",
       "      <th>t1</th>\n",
       "      <th>t2</th>\n",
       "      <th>fom</th>\n",
       "    </tr>\n",
       "  </thead>\n",
       "  <tbody>\n",
       "    <tr>\n",
       "      <th>0</th>\n",
       "      <td>1100</td>\n",
       "      <td>2500</td>\n",
       "      <td>1.680940</td>\n",
       "    </tr>\n",
       "    <tr>\n",
       "      <th>1</th>\n",
       "      <td>1100</td>\n",
       "      <td>2608</td>\n",
       "      <td>1.691150</td>\n",
       "    </tr>\n",
       "    <tr>\n",
       "      <th>2</th>\n",
       "      <td>1100</td>\n",
       "      <td>2716</td>\n",
       "      <td>1.710930</td>\n",
       "    </tr>\n",
       "    <tr>\n",
       "      <th>3</th>\n",
       "      <td>1100</td>\n",
       "      <td>2825</td>\n",
       "      <td>1.723040</td>\n",
       "    </tr>\n",
       "    <tr>\n",
       "      <th>4</th>\n",
       "      <td>1100</td>\n",
       "      <td>2933</td>\n",
       "      <td>1.729100</td>\n",
       "    </tr>\n",
       "    <tr>\n",
       "      <th>...</th>\n",
       "      <td>...</td>\n",
       "      <td>...</td>\n",
       "      <td>...</td>\n",
       "    </tr>\n",
       "    <tr>\n",
       "      <th>370</th>\n",
       "      <td>2700</td>\n",
       "      <td>4666</td>\n",
       "      <td>1.064550</td>\n",
       "    </tr>\n",
       "    <tr>\n",
       "      <th>371</th>\n",
       "      <td>2700</td>\n",
       "      <td>4775</td>\n",
       "      <td>1.028220</td>\n",
       "    </tr>\n",
       "    <tr>\n",
       "      <th>372</th>\n",
       "      <td>2700</td>\n",
       "      <td>4883</td>\n",
       "      <td>1.002570</td>\n",
       "    </tr>\n",
       "    <tr>\n",
       "      <th>373</th>\n",
       "      <td>2700</td>\n",
       "      <td>4991</td>\n",
       "      <td>0.975175</td>\n",
       "    </tr>\n",
       "    <tr>\n",
       "      <th>374</th>\n",
       "      <td>2700</td>\n",
       "      <td>5100</td>\n",
       "      <td>0.952191</td>\n",
       "    </tr>\n",
       "  </tbody>\n",
       "</table>\n",
       "<p>375 rows × 3 columns</p>\n",
       "</div>"
      ],
      "text/plain": [
       "       t1    t2       fom\n",
       "0    1100  2500  1.680940\n",
       "1    1100  2608  1.691150\n",
       "2    1100  2716  1.710930\n",
       "3    1100  2825  1.723040\n",
       "4    1100  2933  1.729100\n",
       "..    ...   ...       ...\n",
       "370  2700  4666  1.064550\n",
       "371  2700  4775  1.028220\n",
       "372  2700  4883  1.002570\n",
       "373  2700  4991  0.975175\n",
       "374  2700  5100  0.952191\n",
       "\n",
       "[375 rows x 3 columns]"
      ]
     },
     "execution_count": 3,
     "metadata": {},
     "output_type": "execute_result"
    }
   ],
   "source": [
    "df = pd.read_csv('output.txt', sep=' ', header=None)\n",
    "df.columns = ['t1', 't2', 'fom']\n",
    "df"
   ]
  },
  {
   "cell_type": "code",
   "execution_count": 4,
   "metadata": {},
   "outputs": [
    {
     "data": {
      "image/png": "[encoded data removed]",
      "text/plain": [
       "<Figure size 640x480 with 2 Axes>"
      ]
     },
     "metadata": {},
     "output_type": "display_data"
    }
   ],
   "source": [
    "# Pivot so that t2 becomes the index (rows) and t1 becomes the columns\n",
    "fom_matrix = df.pivot(index='t2', columns='t1', values='fom')\n",
    "\n",
    "# Optionally, specify extent so that axes reflect the actual t1 and t2 values\n",
    "extent = [df.t1.min(), df.t1.max(), df.t2.min(), df.t2.max()]\n",
    "\n",
    "plt.imshow(fom_matrix, cmap='Spectral', origin='lower', extent=extent)\n",
    "plt.colorbar(label='FOM')\n",
    "plt.xlabel('t1')\n",
    "plt.ylabel('t2')\n",
    "plt.title('FOM')\n",
    "plt.show()"
   ]
  }
 ],
 "metadata": {
  "kernelspec": {
   "display_name": ".venv",
   "language": "python",
   "name": "python3"
  },
  "language_info": {
   "codemirror_mode": {
    "name": "ipython",
    "version": 3
   },
   "file_extension": ".py",
   "mimetype": "text/x-python",
   "name": "python",
   "nbconvert_exporter": "python",
   "pygments_lexer": "ipython3",
   "version": "3.12.3"
  }
 },
 "nbformat": 4,
 "nbformat_minor": 2
}
